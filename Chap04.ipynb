{
 "cells": [
  {
   "cell_type": "markdown",
   "metadata": {},
   "source": [
    "## Creating a dual-prompt get_response() function\n",
    "The following exercises will be based on calling the chat.completions endpoint of the OpenAI API with two prompts (a system prompt and a user prompt). To prepare for this, in this exercise you will create a dual-prompt get_response() function that receives two prompts as input (system_prompt and user_prompt) and returns the response as an output. You will then apply this function to any example of your choice.\n",
    "\n",
    "The OpenAI package has been pre-loaded for you.\n",
    "\n",
    "### Instructions\n",
    "\n",
    "Assign the role and content of each message in the messages list.\n",
    "Try out the function by passing a system_prompt and a user_prompt of your choice."
   ]
  },
  {
   "cell_type": "code",
   "execution_count": null,
   "metadata": {
    "vscode": {
     "languageId": "plaintext"
    }
   },
   "outputs": [],
   "source": [
    "client = OpenAI(api_key=\"<OPENAI_API_TOKEN>\")\n",
    "\n",
    "def get_response(system_prompt, user_prompt):\n",
    "  # Assign the role and content for each message\n",
    "  messages = [{\"role\": \"system\", \"content\": system_prompt},\n",
    "      \t\t  {\"role\": \"user\", \"content\": user_prompt}]  \n",
    "  response = client.chat.completions.create(\n",
    "      model=\"gpt-4o-mini\", messages= messages, temperature=0)\n",
    "  \n",
    "  return response.choices[0].message.content\n",
    "\n",
    "# Try the function with a system and user prompts of your choice \n",
    "response = get_response(\"system_prompt\", \"user_prompt\")\n",
    "print(response)"
   ]
  },
  {
   "cell_type": "markdown",
   "metadata": {},
   "source": [
    "## Customer support chatbot\n",
    "You are tasked with developing a customer support chatbot for an e-commerce company specializing in electronics. This chatbot will assist users with inquiries, order tracking, and troubleshooting common issues. You aim to create a system prompt that clearly defines the chatbot's purpose and provides response guidelines that set the tone for interactions and specify the intended audience. A sample user prompt is provided.\n",
    "\n",
    "The OpenAI package and the get_response() function have been pre-loaded for you.\n",
    "\n",
    "### Instructions\n",
    "\n",
    "Write out who this chatbot is for and what it should do and save this as the chatbot_purpose.\n",
    "Define the target audience as tech-savvy individuals interested in purchasing electronic gadgets and save to audience_guidelines.\n",
    "Define the tone_guidelines that ask the chatbot to use a professional and user-friendly tone while interacting with customers."
   ]
  },
  {
   "cell_type": "code",
   "execution_count": null,
   "metadata": {
    "vscode": {
     "languageId": "plaintext"
    }
   },
   "outputs": [],
   "source": [
    "client = OpenAI(api_key=\"<OPENAI_API_TOKEN>\")\n",
    "\n",
    "# Define the purpose of the chatbot\n",
    "chatbot_purpose = \"\"\"\n",
    "You are a customer support chatbot designed for an e-commerce company that specializes in electronics. Your job is to handle customer support by assisting with product inquiries, tracking orders, and troubleshooting technical issues related to electronic devices. You help improve customer satisfaction by providing timely and accurate information.\n",
    "\"\"\"\n",
    "\n",
    "# Define audience guidelines\n",
    "audience_guidelines = \"\"\"\n",
    "Your target audience consists of tech-savvy individuals who are knowledgeable about electronics and interested in purchasing gadgets. They may need assistance with technical issues, order status, and product-related inquiries.\n",
    "\"\"\"\n",
    "\n",
    "# Define tone guidelines\n",
    "tone_guidelines = \"\"\"\n",
    "You should use a professional and user-friendly tone while interacting with customers. Be polite, patient, and clear in your instructions, making sure to provide helpful and accurate responses. Keep the conversation focused on resolving the issue efficiently.\n",
    "\"\"\"\n",
    "\n",
    "# Combine all the guidelines into a system prompt\n",
    "system_prompt = chatbot_purpose + audience_guidelines + tone_guidelines\n",
    "\n",
    "# Sample user prompt\n",
    "response = get_response(system_prompt, \"My new headphones aren't connecting to my device\")\n",
    "print(response)\n"
   ]
  },
  {
   "cell_type": "markdown",
   "metadata": {},
   "source": [
    "## Behavioral control of a customer support chatbot\n",
    "When the company started using your chatbot from the previous exercise, they realized they'd like to incorporate two conditions to improve its interactions: they want the customer support chatbot to ask for an order number if not provided, and to express empathy for customers going through technical issues.\n",
    "\n",
    "They've assigned this update to you. You need to append these conditions to the base_system_prompt that represents the prompt you engineered in the previous exercise and obtain a refined_system_prompt. You will test the chatbot on two queries.\n",
    "\n",
    "The OpenAI package, the base_system_prompt string developed in the previous exercise, and the get_response() function have been pre-loaded for you.\n",
    "\n",
    "### Instructions\n",
    "\n",
    "Ask the user for their order number if they submitted a query about an order without specifying an order number; save this to order_number_condition.\n",
    "Define a technical_issue_condition where you tell the model to start the response with I'm sorry to hear about your issue with ... if the user is reporting a technical issue.\n",
    "Create the refined_system_prompt that combines the base_system_prompt and the two new conditions."
   ]
  },
  {
   "cell_type": "code",
   "execution_count": null,
   "metadata": {
    "vscode": {
     "languageId": "plaintext"
    }
   },
   "outputs": [],
   "source": [
    "client = OpenAI(api_key=\"<OPENAI_API_TOKEN>\")\n",
    "\n",
    "# Define the order number condition\n",
    "order_number_condition = \"\"\"\n",
    "If a customer asks about an order but does not provide an order number, politely ask them to provide it by saying: \"Could you please provide your order number so I can assist you further?\"\n",
    "\"\"\"\n",
    "\n",
    "# Define the technical issue condition\n",
    "technical_issue_condition = \"\"\"\n",
    "If a customer mentions a technical issue, express empathy at the beginning of your response by saying: \"I'm sorry to hear about your issue with [device or product].\" \n",
    "\"\"\"\n",
    "\n",
    "# Base system prompt from the previous exercise\n",
    "base_system_prompt = \"\"\"\n",
    "You are a customer support chatbot designed for an e-commerce company that specializes in electronics. Your job is to handle customer support by assisting with product inquiries, tracking orders, and troubleshooting technical issues related to electronic devices. You help improve customer satisfaction by providing timely and accurate information.\n",
    "Your target audience consists of tech-savvy individuals who are knowledgeable about electronics and interested in purchasing gadgets. They may need assistance with technical issues, order status, and product-related inquiries.\n",
    "You should use a professional and user-friendly tone while interacting with customers. Be polite, patient, and clear in your instructions, making sure to provide helpful and accurate responses. Keep the conversation focused on resolving the issue efficiently.\n",
    "\"\"\"\n",
    "\n",
    "# Combine the base prompt with the new conditions\n",
    "refined_system_prompt = base_system_prompt + order_number_condition + technical_issue_condition\n",
    "\n",
    "# Test the chatbot on two queries\n",
    "response_1 = get_response(refined_system_prompt, \"My laptop screen is flickering. What should I do?\")\n",
    "response_2 = get_response(refined_system_prompt, \"Can you help me track my recent order?\")\n",
    "\n",
    "print(\"Response 1: \", response_1)\n",
    "print(\"Response 2: \", response_2)\n"
   ]
  },
  {
   "cell_type": "markdown",
   "metadata": {},
   "source": [
    "## Learning advisor chatbot\n",
    "You are developing a personalized learning advisor chatbot that recommends textbooks for users. The chatbot's role is to receive queries from learners about their background, experience, and goals, and accordingly, recommends a learning path of textbooks, including both beginner-level and more advanced options. Your job is to create a role-playing system_prompt for the textbook recommendation chatbot, highlighting what it is expected to do while interacting with the users.\n",
    "\n",
    "The OpenAI package, and the get_response() function have been pre-loaded for you.\n",
    "\n",
    "### Instructions\n",
    "\n",
    "Define a role-playing system_prompt that tells the bot to act as a learning advisor who can interpret learner queries as described and provide the relevant textbook recommendations."
   ]
  },
  {
   "cell_type": "code",
   "execution_count": null,
   "metadata": {
    "vscode": {
     "languageId": "plaintext"
    }
   },
   "outputs": [],
   "source": [
    "client = OpenAI(api_key=\"<OPENAI_API_TOKEN>\")\n",
    "\n",
    "# Craft the system_prompt using the role-playing approach\n",
    "system_prompt = \"\"\"\n",
    "You are a learning advisor chatbot designed to help users find textbooks based on their background, experience, and learning goals. Your task is to engage with users in a friendly and informative manner. \n",
    "When users provide details about their learning journey, such as their background, current skills, and areas of interest, interpret this information to recommend a tailored learning path. \n",
    "Make sure to suggest both beginner-level and advanced textbooks to accommodate varying levels of expertise. \n",
    "Always encourage users to ask follow-up questions if they need further assistance or more recommendations.\n",
    "\"\"\"\n",
    "\n",
    "user_prompt = \"Hello there! I'm a beginner with a marketing background, and I'm really interested in learning about Python, data analytics, and machine learning. Can you recommend some books?\"\n",
    "\n",
    "response = get_response(system_prompt, user_prompt)\n",
    "print(response)\n"
   ]
  },
  {
   "cell_type": "markdown",
   "metadata": {},
   "source": [
    "## Adding guidelines for the learning advisor chatbot\n",
    "In the previous exercise, you built a chatbot to recommend textbooks. However, the company has identified a need for an update to ensure more efficient recommendations. You are provided with a base_system_prompt, similar to the one you created previously, and your task is to incorporate behavior_guidelines and response_guidelines. These guidelines will help control the chatbot's behavior and ensure it offers more effective and tailored textbook recommendations to users.\n",
    "\n",
    "The OpenAI package, and the get_response() function have been pre-loaded for you.\n",
    "\n",
    "### Instructions\n",
    "\n",
    "Define behavior_guidelines for the chatbot that allow it to ask a user about their background, experience, and goals, whenever any of these is not provided in the prompt.\n",
    "Define response_guidelines to tell the chatbot to recommend no more than three textbooks."
   ]
  },
  {
   "cell_type": "code",
   "execution_count": null,
   "metadata": {
    "vscode": {
     "languageId": "plaintext"
    }
   },
   "outputs": [],
   "source": [
    "client = OpenAI(api_key=\"<OPENAI_API_TOKEN>\")\n",
    "\n",
    "base_system_prompt = \"Act as a learning advisor who receives queries from users mentioning their background, experience, and goals, and accordingly provides a response that recommends a tailored learning path of textbooks, including both beginner-level and more advanced options.\"\n",
    "\n",
    "# Define behavior guidelines\n",
    "behavior_guidelines = \"\"\"\n",
    "You should ask the user about their background, experience, and learning goals if any of this information is not provided in the prompt. \n",
    "Engage in a friendly conversation to gather necessary details to make appropriate recommendations.\n",
    "\"\"\"\n",
    "\n",
    "# Define response guidelines\n",
    "response_guidelines = \"\"\"\n",
    "When providing recommendations, suggest no more than three textbooks to ensure the user is not overwhelmed. \n",
    "Make sure to briefly explain why each recommended textbook is suitable for their learning journey.\n",
    "\"\"\"\n",
    "\n",
    "system_prompt = base_system_prompt + behavior_guidelines + response_guidelines\n",
    "user_prompt = \"Hey, I'm looking for courses on Python and data visualization. What do you recommend?\"\n",
    "response = get_response(system_prompt, user_prompt)\n",
    "print(response)\n"
   ]
  },
  {
   "cell_type": "markdown",
   "metadata": {},
   "source": [
    "## Providing context through sample conversations\n",
    "Suppose there is a delivery service named MyPersonalDelivery that offers a wide range of delivery options for various items. You want to create a customer service chatbot that supports customers with whatever they need. To accomplish this, you will provide a context_question and a context_answer about items the company delivers via previous conversations, and you will test if the model recognizes this context through a new user prompt.\n",
    "\n",
    "The OpenAI package, the context_question and context_answer strings have been pre-loaded for you.\n",
    "\n",
    "### Instructions\n",
    "\n",
    "Define a system_prompt that defines the purpose of the chatbot and guides it to answer queries in a gentle way.\n",
    "Use the system_prompt, the context_question, and context_answer to formulate a conversation that the chatbot can use as context in order to respond to the new user query."
   ]
  },
  {
   "cell_type": "markdown",
   "metadata": {},
   "source": [
    "## Providing context through system prompt\n",
    "Now you want to use system prompts in order to provide context for the chatbot about MyPersonalDelivery instead of relying on sample conversations. You are provided with a detailed service_description that introduces the services being offered and the benefits of choosing this service. You will then test a user query to see if the model recognizes the context effectively.\n",
    "\n",
    "The OpenAI package and the service_description string have been pre-loaded for you.\n",
    "\n",
    "### Instructions\n",
    "\n",
    "Define a system_prompt that defines the purpose of the chatbot including the service_description, and guides it to answer queries in a gentle way.\n",
    "Get the response using the get_response() function, that receives a system and a user prompt as inputs and returns the response as an output."
   ]
  },
  {
   "cell_type": "code",
   "execution_count": null,
   "metadata": {
    "vscode": {
     "languageId": "plaintext"
    }
   },
   "outputs": [],
   "source": [
    "client = OpenAI(api_key=\"<OPENAI_API_TOKEN>\")\n",
    "\n",
    "# Define the service description\n",
    "service_description = \"\"\"\n",
    "MyPersonalDelivery offers a wide range of delivery options tailored to your needs. We deliver everyday essentials like groceries, medications, and documents, as well as larger items like electronics, clothing, and furniture. \n",
    "With a focus on convenience, reliability, and speed, we ensure that your items are delivered safely and on time. We also offer real-time tracking and customer support to provide the best delivery experience. \n",
    "However, we do not handle hazardous materials or extremely fragile items requiring special handling.\n",
    "\"\"\"\n",
    "\n",
    "# Define the system prompt with the service description and purpose\n",
    "system_prompt = f\"\"\"\n",
    "You are a customer service chatbot for MyPersonalDelivery, a delivery service that offers flexible delivery options. \n",
    "Your role is to answer customer queries about the services provided, ensuring that responses are professional, clear, and gentle. \n",
    "Here is a description of the services offered: {service_description}\n",
    "\"\"\"\n",
    "\n",
    "# Define the user prompt\n",
    "user_prompt = \"What benefits does MyPersonalDelivery offer?\"\n",
    "\n",
    "# Get the response using the get_response function\n",
    "response = get_response(system_prompt, user_prompt)\n",
    "\n",
    "# Print the response\n",
    "print(response)\n"
   ]
  }
 ],
 "metadata": {
  "language_info": {
   "name": "python"
  }
 },
 "nbformat": 4,
 "nbformat_minor": 2
}
