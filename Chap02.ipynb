{
 "cells": [
  {
   "cell_type": "markdown",
   "metadata": {},
   "source": [
    "## Controlling output structure\n",
    "One way to control the output structure provided by a language model is to give it a sample question-answer in the prompt. The model will learn from it and follow it when generating responses for similar questions. This exercise aims to let you build a one-shot prompt that extracts odd numbers from a given set of numbers and displays them as a set of numbers between brackets, separated by commas as shown in the instructions.\n",
    "\n",
    "The OpenAI package and the get_response() function have been pre-loaded for you.\n",
    "\n",
    "## Instructions\n",
    "\n",
    "Create a one-shot prompt that provides an example showing how to extract the odd numbers from the set {1, 3, 7, 12, 19}, and seeks an answer for the set {3, 5, 11, 12, 16}."
   ]
  },
  {
   "cell_type": "code",
   "execution_count": null,
   "metadata": {
    "vscode": {
     "languageId": "plaintext"
    }
   },
   "outputs": [],
   "source": [
    "client = OpenAI(api_key=\"<OPENAI_API_TOKEN>\")\n",
    "\n",
    "# Create a one-shot prompt\n",
    "prompt = \"\"\"provides an example showing how to extract the odd numbers from the set {1, 3, 7, 12, 19}, and seeks an answer for the set {3, 5, 11, 12, 16}.\"\"\"\n",
    "\n",
    "response = get_response(prompt)\n",
    "print(response)"
   ]
  },
  {
   "cell_type": "markdown",
   "metadata": {},
   "source": [
    "## Sentiment analysis with few-shot prompting\n",
    "You're working on market research and your goal is to use few-shot prompting to perform sentiment analysis on customer reviews. You are assigning a number for a given customers conversation: -1 if the sentiment is negative, 1 if positive. You provide the following examples as previous conversations for the model to learn from.\n",
    "\n",
    "The product quality exceeded my expectations -> 1\n",
    "I had a terrible experience with this product's customer service -> -1\n",
    "The OpenAI package has been pre-loaded for you.\n",
    "\n",
    "## Instructions\n",
    "\n",
    "Provide the examples as previous conversations assigning the text as context for the user role and the number as context for the assistant role.\n",
    "Provide the following text for the model to classify and use the appropriate role: The price of the product is really fair given its features."
   ]
  },
  {
   "cell_type": "code",
   "execution_count": null,
   "metadata": {
    "vscode": {
     "languageId": "plaintext"
    }
   },
   "outputs": [],
   "source": [
    "client = OpenAI(api_key=\"<OPENAI_API_TOKEN>\")\n",
    "\n",
    "response = client.chat.completions.create(\n",
    "  model = \"gpt-4o-mini\",\n",
    "  # Provide the examples as previous conversations\n",
    "  messages = [{\"role\": \"user\", \"content\": \"The product quality exceeded my expectations\"},\n",
    "              {\"role\": \"assistant\", \"content\": \"1\"},\n",
    "              {\"role\": \"user\", \"content\": \"I had a terrible experience with this product's customer service\"},\n",
    "              {\"role\": \"assistant\", \"content\": \"-1\"},\n",
    "              # Provide the text for the model to classify\n",
    "              {\"role\": \"user\", \"content\": \"The price of the product is really fair given its features\"}\n",
    "             ],\n",
    "  temperature = 0\n",
    ")\n",
    "\n",
    "print(response.choices[0].message.content)\n"
   ]
  },
  {
   "cell_type": "markdown",
   "metadata": {},
   "source": [
    "## Single-step prompt to plan a trip\n",
    "Imagine you're a developer taking a break and you want to apply your prompting skills to plan the perfect beach vacation. As an initial step, you decide to use a standard single-step prompt to seek assistance.\n",
    "\n",
    "The OpenAI package and the get_response() function have been pre-loaded for you.\n",
    "\n",
    "The get_response() function in this exercise employs the max_tokens parameter to help this exercise run faster.\n",
    "\n",
    "## Instructions\n",
    "\n",
    "Create a single-step prompt asking the model to help you plan a beach vacation."
   ]
  },
  {
   "cell_type": "code",
   "execution_count": null,
   "metadata": {
    "vscode": {
     "languageId": "plaintext"
    }
   },
   "outputs": [],
   "source": [
    "client = OpenAI(api_key=\"<OPENAI_API_TOKEN>\")\n",
    "\n",
    "# Create a single-step prompt to get help planning the vacation\n",
    "prompt = \"Help me to plan a beach vacation\"\n",
    "\n",
    "response = get_response(prompt)\n",
    "print(response)"
   ]
  },
  {
   "cell_type": "markdown",
   "metadata": {},
   "source": [
    "## Multi-step prompt to plan a trip\n",
    "You noticed that the single-step prompt was not effective, because the answer was too vague for what you had in mind. You improve your prompt by specifying the steps to follow for planning. The plan should have four potential locations for your beach vacation, and each location should have some accommodation options, some activities, and an evaluation of the pros and cons.\n",
    "\n",
    "The OpenAI package and the get_response() function have been pre-loaded for you.\n",
    "\n",
    "The get_response() function in this exercise employs the max_tokens parameter to help this exercise run faster.\n",
    "\n",
    "### Instructions\n",
    "\n",
    "Create a multi-step prompt asking the model to make a plan for a beach vacation, which should include: four potential locations, each with some accommodation options, some activities, and an evaluation of the pros and cons."
   ]
  },
  {
   "cell_type": "code",
   "execution_count": null,
   "metadata": {
    "vscode": {
     "languageId": "plaintext"
    }
   },
   "outputs": [],
   "source": [
    "client = OpenAI(api_key=\"<OPENAI_API_TOKEN>\")\n",
    "\n",
    "# Create a prompt detailing steps to plan the trip\n",
    "prompt = \"\"\"Make a plan for a beach vacation, which should include: \n",
    "1)Four potential locations \n",
    "2)Each with some accommodation options \n",
    "3)Some activities  \n",
    "4)An evaluation of the pros and cons.\"\"\"\n",
    "\n",
    "response = get_response(prompt)\n",
    "print(response)"
   ]
  },
  {
   "cell_type": "markdown",
   "metadata": {},
   "source": [
    "## Analyze solution correctness\n",
    "You're back from your relaxing vacation and you've been assigned the task of reviewing and correcting some programming tasks, including a function to calculate of the area of a shape. You are provided with a code string that contains the function to calculate the area of a rectangle, and need to assess its correctness. The ideal function for you is a function that has correct syntax, receives two inputs, and returns one output.\n",
    "\n",
    "The OpenAI package and the get_response() function have been pre-loaded for you.\n",
    "\n",
    "### Instructions\n",
    "\n",
    "Create a multi-step prompt asking the model to assess the function provided in the delimited code string according to the three criteria: correct syntax, receiving two inputs, and returning one output."
   ]
  },
  {
   "cell_type": "code",
   "execution_count": null,
   "metadata": {
    "vscode": {
     "languageId": "plaintext"
    }
   },
   "outputs": [],
   "source": [
    "client = OpenAI(api_key=\"<OPENAI_API_TOKEN>\")\n",
    "\n",
    "code = '''\n",
    "def calculate_rectangle_area(length, width):\n",
    "    area = length * width\n",
    "    return area\n",
    "'''\n",
    "\n",
    "# Create a prompt that analyzes correctness of the code\n",
    "prompt = f\"\"\"assess the function provided in the delimited '''{code}''' string according to the three criteria: \n",
    "    1)correct syntax\n",
    "    2)receiving two inputs \n",
    "    3)returning one output.\"\"\"\n",
    "\n",
    "response = get_response(prompt)\n",
    "print(response)"
   ]
  },
  {
   "cell_type": "markdown",
   "metadata": {},
   "source": [
    "## Reasoning with chain-of-thought prompts\n",
    "Chain-of-thought prompting is helpful to explain the reasoning behind the answer that the model is giving, especially in complex tasks such as generating the solution for a mathematical problem or a riddle. In this exercise, you will craft a chain-of-thought prompt to let the language model guess the age of your friend's father based on some information you will provide.\n",
    "\n",
    "The OpenAI package and the get_response() function have been pre-loaded for you.\n",
    "\n",
    "### Instructions\n",
    "\n",
    "Create a chain-of-thought prompt to determine your friend's father's age in 10 years, given that he is currently twice your friend's age, and your friend is 20."
   ]
  },
  {
   "cell_type": "code",
   "execution_count": null,
   "metadata": {
    "vscode": {
     "languageId": "plaintext"
    }
   },
   "outputs": [],
   "source": [
    "client = OpenAI(api_key=\"<OPENAI_API_TOKEN>\")\n",
    "\n",
    "# Create the chain-of-thought prompt\n",
    "prompt = client = OpenAI(api_key=\"<OPENAI_API_TOKEN>\")\n",
    "\n",
    "# Create the chain-of-thought prompt\n",
    "prompt = \"\"\"\n",
    "Let's think step by step:\n",
    "1. My friend is currently 20 years old.\n",
    "2. My friend's father is twice their age, so the father is 2 * 20 = 40 years old.\n",
    "3. We need to determine the father's age in 10 years.\n",
    "4. In 10 years, the father will be 40 + 10 = 50 years old.\n",
    "Thus, my friend's father will be 50 years old in 10 years.\n",
    "\"\"\"\n",
    "\n",
    "response = get_response(prompt)\n",
    "print(response)\n",
    "\n",
    "\n",
    "response = get_response(prompt)\n",
    "print(response)"
   ]
  },
  {
   "cell_type": "markdown",
   "metadata": {},
   "source": [
    "## One-shot chain-of-thought prompts\n",
    "When you need to sum the even numbers within a given set, you first have to identify these even numbers and then sum them. You can teach this to a language model via one or more examples, and it will follow this strategy to operate on new sets.\n",
    "\n",
    "Your goal in this exercise is to teach the model how to apply this procedure on the following set: {9, 10, 13, 4, 2}, and then ask the model to perform it on a new set: {15, 13, 82, 7, 14}. This is how you perform chain-of-thought prompting through one-shot prompting.\n",
    "\n",
    "The OpenAI package and the get_response() function have been pre-loaded for you.\n",
    "\n",
    "### Instructions\n",
    "\n",
    "Define an example that teaches the model how to sum the even numbers on the set {9, 10, 13, 4, 2}.\n",
    "Define a question, similar to the one in the example, that asks the model to reason on a new set {15, 13, 82, 7, 14}.\n",
    "Create the final prompt."
   ]
  },
  {
   "cell_type": "code",
   "execution_count": null,
   "metadata": {
    "vscode": {
     "languageId": "plaintext"
    }
   },
   "outputs": [],
   "source": [
    "client = OpenAI(api_key=\"<OPENAI_API_TOKEN>\")\n",
    "\n",
    "# Define the example\n",
    "example = \"\"\"Q: Sum the even numbers in the following set: {9, 10, 13, 4, 2}.\n",
    "A: Even numbers: 10, 4, 2. Adding them: 10 + 4 + 2 = 16.\"\"\"\n",
    "\n",
    "# Define the question\n",
    "question = \"\"\"Q: Sum the even numbers in the following set: {15, 13, 82, 7, 14}.\n",
    "A: \"\"\"\n",
    "\n",
    "# Create the final prompt\n",
    "prompt = example + question\n",
    "response = get_response(prompt)\n",
    "print(response)\n"
   ]
  },
  {
   "cell_type": "markdown",
   "metadata": {},
   "source": [
    "## Self-consistency prompts\n",
    "Imagine you own a store that sells laptops and mobile phones. You start your day with 50 devices in the store, out of which 60% are mobile phones. Throughout the day, three clients visited the store, each of them bought one mobile phone, and one of them bought additionally a laptop. Also, you added to your collection 10 laptops and 5 mobile phones. How many laptops and mobile phones do you have by the end of the day? This problem is defined in the problem_to_solve string, and you will use a self-consistency prompt to solve it.\n",
    "\n",
    "The OpenAI package and the get_response() function have been pre-loaded for you.\n",
    "\n",
    "The get_response() function in this exercise employs the max_tokens parameter to help this exercise run faster.\n",
    "\n",
    "### Instructions\n",
    "\n",
    "Create the self_consistency_instruction that allows the model to solve the problem with three experts and combine the results with a majority vote.\n",
    "Create the final prompt by combining the self_consistency_instruction and the problem_to_solve."
   ]
  },
  {
   "cell_type": "code",
   "execution_count": null,
   "metadata": {
    "vscode": {
     "languageId": "plaintext"
    }
   },
   "outputs": [],
   "source": [
    "client = OpenAI(api_key=\"<OPENAI_API_TOKEN>\")\n",
    "\n",
    "# Create the self_consistency instruction\n",
    "self_consistency_instruction = \"\"\"\n",
    "You will solve the following problem by using three independent experts. Each expert will provide their own solution to the problem. After getting the solutions, combine the results and provide the final answer based on a majority vote from the three experts.\n",
    "\"\"\"\n",
    "\n",
    "# Create the problem to solve\n",
    "problem_to_solve = \"If you own a store that sells laptops and mobile phones. You start your day with 50 devices in the store, out of which 60% are mobile phones. Throughout the day, three clients visited the store, each of them bought one mobile phone, and one of them bought additionally a laptop. Also, you added to your collection 10 laptops and 5 mobile phones. How many laptops and mobile phones do you have by the end of the day?\"\n",
    "\n",
    "# Create the final prompt\n",
    "prompt = self_consistency_instruction + problem_to_solve\n",
    "\n",
    "\n",
    "response = get_response(prompt)\n",
    "print(response)"
   ]
  },
  {
   "cell_type": "markdown",
   "metadata": {},
   "source": [
    "## Iterative prompt engineering for standard prompts\n",
    "You are a developer using prompt engineering techniques for your various tasks, and you want to carefully select the right language model. You wrote an initial prompt to know what are the top ten pre-trained language models out there. Now, your goal is to refine this prompt to generate a table presenting information on each model's name, release year and its owning company.\n",
    "\n",
    "The OpenAI package and the get_response() function have been pre-loaded for you.\n",
    "\n",
    "### Instructions\n",
    "\n",
    "Iteratively refine the prompt to get the desired outcome: a table with three columns for the top ten pre-trained language models, listing the model name, release year, and owning company."
   ]
  },
  {
   "cell_type": "code",
   "execution_count": null,
   "metadata": {
    "vscode": {
     "languageId": "plaintext"
    }
   },
   "outputs": [],
   "source": [
    "client = OpenAI(api_key=\"<OPENAI_API_TOKEN>\")\n",
    "\n",
    "# Refine the following prompt\n",
    "prompt = \"Desired outcome: a table with three columns for the top ten pre-trained language models, listing the model name, release year, and owning company.\"\n",
    "\n",
    "response = get_response(prompt)\n",
    "print(response)"
   ]
  },
  {
   "cell_type": "markdown",
   "metadata": {},
   "source": [
    "## Iterative prompt engineering for few-shot prompts\n",
    "You are currently working on a project at your content creation company. The project's objective is to develop a text classification model capable of accurately identifying and categorizing different emotions in text, such as happiness, sadness, and fear. In cases where the text does not contain any discernible emotion, you aim for the model to respond with \"no explicit emotion.\"\n",
    "\n",
    "You decided to use the provided few-shot prompt. However, you've noticed that \"Time flies like an arrow\" is being incorrectly classified as \"surprise.\" Your objective now is to refine the prompt so that the model correctly classifies this particular example as \"no explicit emotion.\"\n",
    "\n",
    "The OpenAI package and the get_response() function have been pre-loaded for you.\n",
    "\n",
    "### Instructions\n",
    "\n",
    "Iteratively refine the prompt, by refining the examples, to get the output no explicit emotion for the \"They sat and ate their meal\" example."
   ]
  },
  {
   "cell_type": "code",
   "execution_count": null,
   "metadata": {
    "vscode": {
     "languageId": "plaintext"
    }
   },
   "outputs": [],
   "source": [
    "client = OpenAI(api_key=\"<OPENAI_API_TOKEN>\")\n",
    "\n",
    "# Refine the following prompt\n",
    "prompt = \"\"\"\n",
    "Receiving a promotion at work made me feel on top of the world -> Happiness\n",
    "The movie's ending left me with a heavy feeling in my chest -> Sadness\n",
    "Walking alone in the dark alley sent shivers down my spine -> Fear\n",
    "I drank a glass of water after feeling thirsty -> No explicit emotion\n",
    "The clock ticked quietly in the background -> No explicit emotion\n",
    "They sat and ate their meal ->\n",
    "\"\"\"\n",
    "\n",
    "response = get_response(prompt)\n",
    "print(response)\n"
   ]
  }
 ],
 "metadata": {
  "language_info": {
   "name": "python"
  }
 },
 "nbformat": 4,
 "nbformat_minor": 2
}
