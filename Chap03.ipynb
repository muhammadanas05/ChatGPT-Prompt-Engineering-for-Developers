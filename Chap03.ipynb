{
 "cells": [
  {
   "cell_type": "markdown",
   "metadata": {},
   "source": [
    "## Market research report summarization\n",
    "A market research firm needs to analyze and summarize lengthy reports on market trends and customer behavior. They want to know how AI and data privacy are shaping the market and how they're affecting customers. You are provided with a report string about markets trends and how they're affecting customer behavior. Your goal is to craft a prompt to summarize it while focusing on aspects related to AI and data privacy to see their effect on customers.\n",
    "\n",
    "The OpenAI package, the report string, and the get_response() function have been pre-loaded for you.\n",
    "\n",
    "### Instructions\n",
    "\n",
    "Craft a prompt that summarizes the report (formatted using f-string) in maximum five sentences, while focusing on aspects related to AI and data privacy ."
   ]
  },
  {
   "cell_type": "code",
   "execution_count": null,
   "metadata": {
    "vscode": {
     "languageId": "plaintext"
    }
   },
   "outputs": [],
   "source": [
    "client = OpenAI(api_key=\"<OPENAI_API_TOKEN>\")\n",
    "\n",
    "# Craft a prompt to summarize the report with a focus on AI and data privacy\n",
    "prompt = f\"\"\"Summarize the following market research report in a maximum of five sentences, focusing on how AI and data privacy are shaping the market and their effect on customers:\n",
    "\n",
    "```{report}```\n",
    "\"\"\"\n",
    "\n",
    "response = get_response(prompt)\n",
    "\n",
    "print(\"Summarized report: \\n\", response)\n"
   ]
  },
  {
   "cell_type": "markdown",
   "metadata": {},
   "source": [
    "## Product features summarization\n",
    "An electronics review website wants to provide concise and easy-to-read summaries of product features for its readers, allowing them to compare and evaluate different products quickly. The review website wants to generate bullet-point summaries, and, to start with, they want you to craft a prompt that summarizes a product_description for a smartphone.\n",
    "\n",
    "The OpenAI package, the product_description, and the get_response() function have been pre-loaded for you.\n",
    "\n",
    "### Instructions\n",
    "\n",
    "Craft a prompt that summarizes the product_description in no more than five bullet points."
   ]
  },
  {
   "cell_type": "code",
   "execution_count": null,
   "metadata": {
    "vscode": {
     "languageId": "plaintext"
    }
   },
   "outputs": [],
   "source": [
    "client = OpenAI(api_key=\"<OPENAI_API_TOKEN>\")\n",
    "\n",
    "# Craft a prompt to summarize the product description into bullet points\n",
    "prompt = f\"\"\"Summarize the following smartphone product description into at most five concise bullet points:\n",
    "\n",
    "```{product_description}```\n",
    "\"\"\"\n",
    "\n",
    "response = get_response(prompt)\n",
    "\n",
    "print(\"Original description: \\n\", product_description)\n",
    "print(\"Summarized description: \\n\", response)\n"
   ]
  },
  {
   "cell_type": "markdown",
   "metadata": {},
   "source": [
    "## Product description expansion\n",
    "As you continue your work on the electronics review website, you've come across some products that are already summarized but lack a comprehensive description. Your task now is to expand these concise product descriptions into detailed narratives, ensuring that each product has both a full description and a bulleted summary for easy comparison. The complete description should effectively capture the product's unique features, benefits, and potential applications. You will apply your first prompt on a smart home security camera's product description.\n",
    "\n",
    "The OpenAI package, the product_description string, and the get_response() function have been pre-loaded for you.\n",
    "\n",
    "### Instructions\n",
    "\n",
    "Craft a prompt that expands the product_description pre-loaded string, and writes a one paragraph comprehensive overview capturing the key information of the product: unique features, benefits, and potential applications."
   ]
  },
  {
   "cell_type": "code",
   "execution_count": null,
   "metadata": {
    "vscode": {
     "languageId": "plaintext"
    }
   },
   "outputs": [],
   "source": [
    "client = OpenAI(api_key=\"<OPENAI_API_TOKEN>\")\n",
    "\n",
    "# Craft a prompt to expand the product's description into a comprehensive overview\n",
    "prompt = f\"\"\"Expand the following concise product description of a smart home security camera into a detailed, one-paragraph narrative that includes its unique features, benefits, and potential applications:\n",
    "\n",
    "```{product_description}```\n",
    "\"\"\"\n",
    "\n",
    "response = get_response(prompt)\n",
    "\n",
    "print(\"Original description: \\n\", product_description)\n",
    "print(\"Expanded description: \\n\", response)\n"
   ]
  },
  {
   "cell_type": "markdown",
   "metadata": {},
   "source": [
    "## Translation for multilingual communication\n",
    "A multinational company wants to expand its reach to more international markets. They need a language translation solution to convert their product descriptions and marketing materials into multiple languages. These will then be verified before being published.\n",
    "\n",
    "Your task is to design a prompt that translates text from one language to multiple other languages, facilitating effective communication with customers worldwide. You will apply your prompt on a provided marketing_message that introduces their latest collection of premium leather handbags.\n",
    "\n",
    "The OpenAI package, the marketing_message string, and the get_response() function have been pre-loaded for you.\n",
    "\n",
    "### Instructions\n",
    "\n",
    "Craft a prompt that translates the marketing_message from English to French, Spanish, and Japanese."
   ]
  },
  {
   "cell_type": "code",
   "execution_count": null,
   "metadata": {
    "vscode": {
     "languageId": "plaintext"
    }
   },
   "outputs": [],
   "source": [
    "client = OpenAI(api_key=\"<OPENAI_API_TOKEN>\")\n",
    "\n",
    "# Craft a prompt that translates the marketing_message from English to French, Spanish, and Japanese\n",
    "prompt = f\"\"\"Translate the text delimited by triple backticks into French, Spanish, and Japanese:\n",
    "```{marketing_message}```\n",
    "\"\"\"\n",
    "\n",
    "response = get_response(prompt)\n",
    "\n",
    "print(\"English:\", marketing_message)\n",
    "print(response)\n"
   ]
  },
  {
   "cell_type": "markdown",
   "metadata": {},
   "source": [
    "## Tone adjustment for email marketing\n",
    "An e-commerce company regularly conducts email marketing campaigns to promote its products, inform customers about new arrivals, and offer exclusive deals. The company has a hypothesis that its current strategy is too informal and wants to test out how tone adjustment to their emails could help boost customer engagement.\n",
    "\n",
    "Your task is to craft a prompt that can effectively transform the tone of marketing emails. You will apply your prompt on the sample_email provided.\n",
    "\n",
    "The OpenAI package, the sample_email string, and the get_response() function have been pre-loaded for you.\n",
    "\n",
    "### Instructions\n",
    "\n",
    "Craft a prompt that transforms the sample_email by changing its tone to be professional, positive, and user-centric."
   ]
  },
  {
   "cell_type": "code",
   "execution_count": null,
   "metadata": {
    "vscode": {
     "languageId": "plaintext"
    }
   },
   "outputs": [],
   "source": [
    "client = OpenAI(api_key=\"<OPENAI_API_TOKEN>\")\n",
    "\n",
    "# Craft a prompt to change the email's tone to be professional, positive, and user-centric\n",
    "prompt = f\"\"\"Transform the text delimited by triple backticks to have a professional, positive, and user-centric tone:\n",
    "```{sample_email}```\n",
    "\"\"\"\n",
    "\n",
    "response = get_response(prompt)\n",
    "\n",
    "print(\"Before transformation: \\n\", sample_email)\n",
    "print(\"After transformation: \\n\", response)\n"
   ]
  },
  {
   "cell_type": "markdown",
   "metadata": {},
   "source": [
    "## Writing improvement\n",
    "A popular online community relies on user-generated content to thrive. Users frequently contribute reviews, articles, and comments, but the quality of these contributions varies. To elevate the overall experience for its members, the community aims to enhance user-generated texts. This includes fixing grammar errors and refining writing tones to create a more polished and engaging environment for all users. Your task is to build a multi-step prompt that proofreads and adjusts the tone of a given text.\n",
    "\n",
    "The OpenAI package, the text string to operate on, and the get_response() function have been pre-loaded for you.\n",
    "\n",
    "### Instructions\n",
    "\n",
    "Craft a multi-step prompt that first proofreads the text without changing its structure, and then adjusts its tone to be formal and friendly."
   ]
  },
  {
   "cell_type": "code",
   "execution_count": null,
   "metadata": {
    "vscode": {
     "languageId": "plaintext"
    }
   },
   "outputs": [],
   "source": [
    "client = OpenAI(api_key=\"<OPENAI_API_TOKEN>\")\n",
    "\n",
    "# Craft a multi-step prompt to proofread and adjust the tone\n",
    "prompt = f\"\"\"\n",
    "Step 1: Proofread the text delimited by triple backticks, fixing grammar, punctuation, and spelling errors without changing its structure or meaning.\n",
    "Step 2: Adjust the tone of the text to be formal and friendly.\n",
    "```{text}```\n",
    "\"\"\"\n",
    "\n",
    "response = get_response(prompt)\n",
    "\n",
    "print(\"Before transformation:\\n\", text)\n",
    "print(\"After transformation:\\n\", response)\n"
   ]
  },
  {
   "cell_type": "markdown",
   "metadata": {},
   "source": [
    "## Customer support ticket routing\n",
    "A large customer support team receives many tickets related to different business areas, such as technical issues, billing inquiries, and product feedback. Your task is to create a prompt that automatically classifies incoming tickets into these three groups and routes them to the appropriate support specialists, reducing response times and enhancing customer satisfaction. You will test your prompt on a provided sample ticket.\n",
    "\n",
    "The OpenAI package, the ticket string, and the get_response() function have been pre-loaded for you.\n",
    "\n",
    "### Instructions\n",
    "\n",
    "Craft a prompt that classifies the ticket as technical issue, billing inquiry, or product feedback, without providing anything else in the response."
   ]
  },
  {
   "cell_type": "code",
   "execution_count": null,
   "metadata": {
    "vscode": {
     "languageId": "plaintext"
    }
   },
   "outputs": [],
   "source": [
    "client = OpenAI(api_key=\"<OPENAI_API_TOKEN>\")\n",
    "\n",
    "# Craft a prompt to classify the ticket\n",
    "prompt = f\"\"\"\n",
    "Classify the following customer support ticket as either a technical issue, billing inquiry, or product feedback, without providing anything else in the response.\n",
    "```{ticket}```\n",
    "\"\"\"\n",
    "\n",
    "response = get_response(prompt)\n",
    "\n",
    "print(\"Ticket: \", ticket)\n",
    "print(\"Class: \", response)\n"
   ]
  },
  {
   "cell_type": "markdown",
   "metadata": {},
   "source": [
    "## Customer support ticket analysis\n",
    "The customer support team receive tickets through various channels, such as email, chat, and social media. The company wants to automatically extract key entities to categorize and prioritize the tickets appropriately. Your job is to craft a few-shot prompt that helps them achieve that.\n",
    "\n",
    "You have three sample tickets (ticket_1, ticket_2, and ticket_3) and their corresponding entities (entities_1, entities_2, and entities_3) to inform the model on what to look for and how to display it. You need the model to extract entities from the new ticket_4 string.\n",
    "\n",
    "The OpenAI package, the ticket_4 string, and the get_response() function have been pre-loaded for you, as well as the ticket and entity variables previously mentioned.\n",
    "\n",
    "### Instructions\n",
    "\n",
    "Craft a few-shot prompt that uses three tickets and corresponding entities, to extract entities from the new ticket ticket_4."
   ]
  },
  {
   "cell_type": "code",
   "execution_count": null,
   "metadata": {
    "vscode": {
     "languageId": "plaintext"
    }
   },
   "outputs": [],
   "source": [
    "client = OpenAI(api_key=\"<OPENAI_API_TOKEN>\")\n",
    "\n",
    "# Craft a few-shot prompt to get the ticket's entities\n",
    "prompt = f\"\"\"\n",
    "Extract the key entities from the following customer support tickets and display them in a structured format.\n",
    "\n",
    "Ticket: {ticket_1}\n",
    "Entities: {entities_1}\n",
    "\n",
    "Ticket: {ticket_2}\n",
    "Entities: {entities_2}\n",
    "\n",
    "Ticket: {ticket_3}\n",
    "Entities: {entities_3}\n",
    "\n",
    "Ticket: {ticket_4}\n",
    "Entities:\n",
    "\"\"\"\n",
    "\n",
    "response = get_response(prompt)\n",
    "\n",
    "print(\"Ticket: \\n\", ticket_4)\n",
    "print(\"Entities: \\n\", response)\n"
   ]
  },
  {
   "cell_type": "markdown",
   "metadata": {},
   "source": [
    "## Code generation with problem description\n",
    "You work as an analyst for a retail company and analyze monthly sales data. You need to develop a Python function that accepts a list of 12 numbers representing sales for each month of the year and outputs the month with the highest sales value. This information will help your company identify the most profitable month. You feed the problem description to a language model to get help.\n",
    "\n",
    "The OpenAI package and the get_response() function have been pre-loaded for you.\n",
    "\n",
    "### Instructions\n",
    "\n",
    "Craft a prompt that asks the model to write a Python function that receives a list of 12 floats representing monthly sales data as input and, returns the month with the highest sales value as output."
   ]
  },
  {
   "cell_type": "code",
   "execution_count": null,
   "metadata": {
    "vscode": {
     "languageId": "plaintext"
    }
   },
   "outputs": [],
   "source": [
    "client = OpenAI(api_key=\"<OPENAI_API_TOKEN>\")\n",
    "\n",
    "# Craft a prompt that asks the model for the function\n",
    "prompt = \"\"\"\n",
    "Write a Python function called `highest_sales_month` that accepts a list of 12 floats representing monthly sales data. The function should return the month (1-12) with the highest sales value. \n",
    "If the highest sales occur in multiple months, return the first month with the highest value. \n",
    "\"\"\"\n",
    "\n",
    "response = get_response(prompt)\n",
    "print(response)\n"
   ]
  },
  {
   "cell_type": "markdown",
   "metadata": {},
   "source": [
    "## Input-output examples for code generation\n",
    "You work as a project manager and need to estimate the time it will take to complete different projects. Your task is to develop a Python function that can predict the estimated completion time for a project based on historical data. You are given a set of examples in the examples string where different factors are associated with project completion time. Each example includes the factors' numerical values and the corresponding estimated completion time.\n",
    "\n",
    "The OpenAI package and the get_response() function have been pre-loaded for you, as well as the examples string.\n",
    "\n",
    "### Instructions\n",
    "\n",
    "Craft a prompt that asks the model to infer the Python function that maps the inputs to the outputs in the provided examples."
   ]
  },
  {
   "cell_type": "code",
   "execution_count": null,
   "metadata": {
    "vscode": {
     "languageId": "plaintext"
    }
   },
   "outputs": [],
   "source": [
    "client = OpenAI(api_key=\"<OPENAI_API_TOKEN>\")\n",
    "\n",
    "examples = \"\"\"input = [10, 5, 8] -> output = 23\n",
    "input = [5, 2, 4] -> output = 11\n",
    "input = [2, 1, 3] -> output = 6\n",
    "input = [8, 4, 6] -> output = 18\n",
    "\"\"\"\n",
    "\n",
    "# Craft a prompt that asks the model for the function\n",
    "prompt = f\"\"\"\n",
    "Based on the following examples of input and output delimated by triple backticks, write a Python function called `estimate_completion_time` that predicts the estimated completion time for a project based on the given factors:\n",
    "'''{examples}'''\n",
    "The function should take a list of three numerical inputs and return the corresponding estimated completion time.\n",
    "\"\"\"\n",
    "\n",
    "response = get_response(prompt)\n",
    "print(response)\n"
   ]
  },
  {
   "cell_type": "markdown",
   "metadata": {},
   "source": [
    "## Modifying code with multi-step prompts\n",
    "You are a home improvement contractor specializing in flooring installations. You need to develop a Python function that calculates the area and perimeter of a rectangular floor in a room to help you determine the amount of flooring material required for the project.\n",
    "\n",
    "You are given a string named function, which contains a starter function that calculates the area of a rectangular floor given its width and length. Using a multi-step prompt, you need to prompt the language model to modify this function to return the perimeter of the rectangle as well, and to test if the inputs (floor dimensions) are positive, and if not, display appropriate error messages.\n",
    "\n",
    "The OpenAI package, the function string, and the get_response() function have been pre-loaded for you.\n",
    "\n",
    "### Instructions\n",
    "\n",
    "Craft a multi-step prompt that asks the model to modify the function according to the specified requirements: test if the inputs to the functions are positive, and if not, display appropriate error messages, otherwise return the area and perimeter of the rectangle."
   ]
  },
  {
   "cell_type": "code",
   "execution_count": null,
   "metadata": {
    "vscode": {
     "languageId": "plaintext"
    }
   },
   "outputs": [],
   "source": [
    "client = OpenAI(api_key=\"<OPENAI_API_TOKEN>\")\n",
    "\n",
    "function = \"\"\"def calculate_area_rectangular_floor(width, length):\n",
    "\t\t\t\t\treturn width*length\"\"\"\n",
    "\n",
    "# Craft a multi-step prompt that asks the model to adjust the function\n",
    "prompt = f\"\"\"\n",
    "You have a starter function delimated by triple backtricks that calculates the area of a rectangular floor given its width and length:\n",
    "\n",
    "'''{function}'''\n",
    "\n",
    "1. Modify the function to also calculate and return the perimeter of the rectangle.\n",
    "2. Add input validation to check if both `width` and `length` are positive numbers.\n",
    "3. If either input is not positive, display an appropriate error message.\n",
    "4. If both inputs are valid, return both the area and perimeter of the rectangle.\n",
    "\n",
    "Please provide the modified function.\n",
    "\"\"\"\n",
    "\n",
    "response = get_response(prompt)\n",
    "print(response)\n"
   ]
  },
  {
   "cell_type": "markdown",
   "metadata": {},
   "source": [
    "## Explaining code step by step\n",
    "As a financial analyst at a consulting firm, you're tasked with analyzing investment portfolios and providing insights to clients. While reviewing a set of financial data files, you come across a Python function that seems related to analyzing portfolios, but you're unsure of its exact purpose. You decide to use chain-of-thought prompting to let the language model decipher it step by step.\n",
    "\n",
    "The OpenAI package, the function string, and the get_response() function have been pre-loaded for you.\n",
    "\n",
    "### Instructions\n",
    "\n",
    "Craft a chain-of-thought prompt that asks the model to explain the provided function."
   ]
  },
  {
   "cell_type": "code",
   "execution_count": null,
   "metadata": {
    "vscode": {
     "languageId": "plaintext"
    }
   },
   "outputs": [],
   "source": [
    "client = OpenAI(api_key=\"<OPENAI_API_TOKEN>\")\n",
    "\n",
    "# Craft a chain-of-thought prompt that asks the model to explain what the function does\n",
    "prompt = f\"\"\"\n",
    "Please analyze the following Python function and explain its purpose step by step:\n",
    "\n",
    "```python\n",
    "{function}\n",
    "Start by identifying the function's name and its parameters.\n",
    "Explain what the function does at a high level.\n",
    "Break down each line of the function, explaining the role of key operations and any relevant calculations.\n",
    "Discuss any return values and their significance in the context of investment portfolios.\n",
    "Finally, summarize how this function might be used in analyzing financial data.\n",
    "Provide a detailed explanation. \"\"\"\n",
    "\n",
    "response = get_response(prompt) \n",
    "print(response)"
   ]
  }
 ],
 "metadata": {
  "language_info": {
   "name": "python"
  }
 },
 "nbformat": 4,
 "nbformat_minor": 2
}
