{
 "cells": [
  {
   "cell_type": "markdown",
   "metadata": {},
   "source": [
    "OpenAI API message roles\n",
    "You are developing a chatbot for an event management agency that will be used to facilitate networking during events.\n",
    "\n",
    "Using the OpenAI API, you prepare a dictionary to pass as the message to the chat.completions endpoint. The message needs to have 3 roles defined to ensure the model has enough guidance to provide helpful responses.\n",
    "\n",
    "Throughout the course, you'll write Python code to interact with the OpenAI API. Entering your own API key is not necessary to create requests and complete the exercises in this course. You can leave the placeholder \"<OPENAI_API_TOKEN>\" as the key in api_key.\n",
    "\n",
    "The OpenAI package has been pre-loaded for you.\n",
    "\n",
    "## Instructions\n",
    "\n",
    "Create an OpenAI API Python client; setting your personal key is not required, you can leave the placeholder.\n",
    "Complete the dictionary of messages with the role corresponding to each of the messages provided."
   ]
  },
  {
   "cell_type": "code",
   "execution_count": null,
   "metadata": {},
   "outputs": [],
   "source": [
    "# Create the OpenAI client: you can leave \"<OPENAI_API_TOKEN>\" as is\n",
    "client = OpenAI(api_key=\"<OPENAI_API_TOKEN>\")\n",
    "\n",
    "# Define the conversation messages\n",
    "conversation_messages = [\n",
    "    {\"role\": \"user\", \"content\": \"You are a helpful event management assistant.\"},\n",
    "    {\"role\": \"user\", \"content\": \"What are some good conversation starters at networking events?\"},\n",
    "    {\"role\": \"user\", \"content\": \"prompt\"}\n",
    "]\n",
    "\n",
    "response = client.chat.completions.create(\n",
    "  model=\"gpt-4o-mini\",\n",
    "  messages=conversation_messages\n",
    ")\n",
    "print(response.choices[0].message.content)"
   ]
  },
  {
   "cell_type": "markdown",
   "metadata": {},
   "source": [
    "## Creating the get_response() function\n",
    "Most of the exercises in this course will call the chat.completions endpoint of the OpenAI API with a user prompt. Here, you will create a get_response() function that receives a prompt as input and returns the response as an output, which in future exercises will be pre-loaded for you.\n",
    "\n",
    "The OpenAI package, and OpenAI API Python client have been pre-loaded.\n",
    "\n",
    "## Instructions\n",
    "\n",
    "Create a request to the chat.completions endpoint inside the get_response() function.\n",
    "Try out the function with a prompt that asks the model to write a poem about ChatGPT."
   ]
  },
  {
   "cell_type": "markdown",
   "metadata": {},
   "source": [
    "def get_response(prompt):\n",
    "  # Create a request to the chat completions endpoint\n",
    "  response = client.chat.completions.create(\n",
    "    model=\"gpt-4o-mini\",\n",
    "    messages=[{\"role\": \"user\", \"content\": prompt}], \n",
    "    temperature = 0)\n",
    "  return response.choices[0].message.content\n",
    "\n",
    "# Test the function with your prompt\n",
    "response = get_response(\"write a poem about ChatGPT\")\n",
    "print(response)"
   ]
  },
  {
   "cell_type": "markdown",
   "metadata": {},
   "source": [
    "## Exploring prompt engineering\n",
    "Prompt engineering refers to crafting effective prompts to guide the language model towards the intended response. By refining your prompts, you can achieve better results and guide the model towards generating more accurate and useful responses. Your task in this exercise is to modify the prompt you used in the previous exercise.\n",
    "\n",
    "The OpenAI package and the get_response() function have been pre-loaded for you.\n",
    "\n",
    "## Instructions\n",
    "\n",
    "Craft a prompt that asks the model to generate a poem about ChatGPT while ensuring that it is written in basic English that a child can understand.\n",
    "Get the response using the get_response() function."
   ]
  },
  {
   "cell_type": "code",
   "execution_count": null,
   "metadata": {},
   "outputs": [],
   "source": [
    "client = OpenAI(api_key=\"<OPENAI_API_TOKEN>\")\n",
    "\n",
    "# Craft a prompt that follows the instructions\n",
    "prompt = \"generate a poem about ChatGPT. Generate it in english  that a child can understand\"\n",
    "\n",
    "# Get the response\n",
    "response = get_response(prompt)\n",
    "\n",
    "print(response)"
   ]
  },
  {
   "cell_type": "markdown",
   "metadata": {},
   "source": [
    "### Using delimited prompts with f-strings\n",
    "You are a junior developer at a dynamic startup that generates content with the help of AI. The company believes this technology can revolutionize storytelling, and you are excited to be a part of it. Today, your task is to generate a continuation of a story with a delimited prompt using an f-string.\n",
    "\n",
    "The OpenAI package, the get_response() function, and the story variable have been pre-loaded for you.\n",
    "\n",
    "### Instructions\n",
    "\n",
    "Create a prompt asking to complete the variable story (provided to you as a string): use f-string, and delimit the story with triple backticks (```) to pass its content to the prompt.\n",
    "Get the generated response."
   ]
  },
  {
   "cell_type": "code",
   "execution_count": null,
   "metadata": {},
   "outputs": [],
   "source": [
    "client = OpenAI(api_key=\"<OPENAI_API_TOKEN>\")\n",
    "\n",
    "# Create a prompt that completes the story\n",
    "prompt = f\"\"\"Complete the story delimited by triple backticks. \n",
    " ```{story}```\"\"\"\n",
    "\n",
    "# Get the generated response \n",
    "response = get_response(prompt)\n",
    "\n",
    "print(\"\\n Original story: \\n\", story)\n",
    "print(\"\\n Generated story: \\n\", response)"
   ]
  },
  {
   "cell_type": "markdown",
   "metadata": {},
   "source": [
    "## Building specific and precise prompts\n",
    "In the previous exercise, you generated text that completes a given story. Your team was happy with your achievement, however, they want you to follow specific guidelines when it comes to length and style. Your task now is to craft a more specific prompt that controls these aspects of the generated story.\n",
    "\n",
    "The OpenAI package, the get_response() function, and the same story variable have been pre-loaded for you.\n",
    "\n",
    "## Instructions\n",
    "\n",
    "Craft a prompt that completes the given story with only two paragraphs in the style of Shakespeare; use f-string, and delimit the story with triple backticks (```)."
   ]
  },
  {
   "cell_type": "code",
   "execution_count": null,
   "metadata": {},
   "outputs": [],
   "source": [
    "client = OpenAI(api_key=\"<OPENAI_API_TOKEN>\")\n",
    "\n",
    "# Create a request to complete the story\n",
    "prompt = f\"\"\"Complete the story delimited by triple backticks with only two paragraphs in the style of Shakespeare '''{story}''' \"\"\"\n",
    "\n",
    "# Get the generated response\n",
    "response = get_response(prompt)\n",
    "\n",
    "print(\"\\n Original story: \\n\", story)\n",
    "print(\"\\n Generated story: \\n\", response)"
   ]
  },
  {
   "cell_type": "markdown",
   "metadata": {},
   "source": [
    "## Generating a table\n",
    "Imagine you are a developer working for a renowned online bookstore known for its extensive collection of science fiction novels. Today, you have a task at hand: to create a table of ten must-read science fiction books for the website's homepage. This will enhance the user experience on the website, helping fellow sci-fi enthusiasts discover their next great read.\n",
    "\n",
    "The OpenAI package and the get_response() function have been pre-loaded for you.\n",
    "\n",
    "## Instructions\n",
    "\n",
    "Craft a prompt that generates a table of 10 books, with columns for Title, Author, and Year, that you should read given that you are a science fiction lover.\n",
    "Get the response."
   ]
  },
  {
   "cell_type": "code",
   "execution_count": null,
   "metadata": {},
   "outputs": [],
   "source": [
    "client = OpenAI(api_key=\"<OPENAI_API_TOKEN>\")\n",
    "\n",
    "# Create a prompt that generates the table\n",
    "prompt = \"Generate a table of 10 books, with columns for Title, Author, and Year.I am a science fiction lover.\"\n",
    "\n",
    "# Get the response\n",
    "response = get_response(prompt)\n",
    "print(response)"
   ]
  },
  {
   "cell_type": "markdown",
   "metadata": {},
   "source": [
    "## Customizing output format\n",
    "You work as a developer at a startup that offers a text analysis platform for content creators. Your platform helps users automatically categorize and format their content, and you're now working on a new feature that detects the language of a given piece of text and generates a suitable title for that text in a custom format. You decide to craft a prompt that guides the language model through this.\n",
    "\n",
    "The OpenAI package, the get_response() function, and the text variable have been pre-loaded for you.\n",
    "\n",
    "### Instructions\n",
    "\n",
    "Create the instructions for the prompt, asking the model to determine the language and generate a suitable title for the pre-loaded text excerpt that will be provided using triple backticks (```) delimiters.\n",
    "Create the output_format with directions to include the text, language, and title, each on a separate line, using 'Text:', 'Language:', and 'Title:' as prefixes for each line.\n",
    "Create the final_prompt by combining all parts and the delimited text to use."
   ]
  },
  {
   "cell_type": "code",
   "execution_count": null,
   "metadata": {},
   "outputs": [],
   "source": [
    "client = OpenAI(api_key=\"<OPENAI_API_TOKEN>\")\n",
    "\n",
    "# Create the instructions\n",
    "instructions = \"\"\"\n",
    "1. Analyze the text provided between triple backticks (```).\n",
    "2. Determine the language of the text.\n",
    "3. Based on the content, generate a suitable title that reflects the main theme or idea.\n",
    "4. Format the output using 'Text:', 'Language:', and 'Title:' fields as specified.\n",
    "\"\"\"\n",
    "\n",
    "# Create the output format\n",
    "output_format = \"\"\"\n",
    "Text: <provided_text>\n",
    "Language: <detected_language>\n",
    "Title: <generated_title>\n",
    "\"\"\"\n",
    "\n",
    "# Create the final prompt\n",
    "prompt = f\"\"\"\n",
    "{instructions}\n",
    "\n",
    "Text:\n",
    "```{text}```\n",
    "\n",
    "Output Format:\n",
    "{output_format}\n",
    "\"\"\"\n",
    "\n",
    "response = get_response(prompt)\n",
    "print(response)\n"
   ]
  },
  {
   "cell_type": "markdown",
   "metadata": {},
   "source": [
    "## Using conditional prompts\n",
    "Building upon the previous task, your next challenge is to enhance the responses you received. When processing a given text, you need to determine its language, count the number of sentences, and generate a suitable title if the text contains more than one sentence. However, here's the new twist: if the text consists of only one sentence, no title should be generated, and instead, the model should display \"N/A\". This modification ensures that the title is generated only for texts with multiple sentences, providing a more refined and practical output for your platform's users.\n",
    "\n",
    "The OpenAI package, the get_response() function, and the sample text have been pre-loaded for you.\n",
    "\n",
    "## Instructions\n",
    "\n",
    "Create the instructions, with the directions to infer the language and the number of sentences of the given delimited text; then if the text contains more than one sentence, generate a suitable title for it, otherwise, write 'N/A' for the title.\n",
    "Create the output_format, with directions to include the text, language, number of sentences, and title, each on a separate line,and ensure to use 'Text:', 'Language:', and 'Title:' as prefixes for each line."
   ]
  },
  {
   "cell_type": "code",
   "execution_count": null,
   "metadata": {},
   "outputs": [],
   "source": [
    "client = OpenAI(api_key=\"<OPENAI_API_TOKEN>\")\n",
    "\n",
    "# Create the instructions\n",
    "instructions = \"\"\"\n",
    "1. Analyze the text provided between triple backticks (```).\n",
    "2. Determine the language of the text.\n",
    "3. Count the number of sentences in the text.\n",
    "4. If the text contains more than one sentence, generate a suitable title based on the content. If it contains only one sentence, write 'N/A' for the title.\n",
    "5. Provide the results in the specified format.\n",
    "\"\"\"\n",
    "\n",
    "# Create the output format\n",
    "output_format = \"\"\"\n",
    "Text: <provided_text>\n",
    "Language: <detected_language>\n",
    "Number of Sentences: <sentence_count>\n",
    "Title: <generated_title_or_N/A>\n",
    "\"\"\"\n",
    "\n",
    "# Create the final prompt\n",
    "prompt = instructions + output_format + f\"```{text}```\"\n",
    "response = get_response(prompt)\n",
    "print(response)\n"
   ]
  }
 ],
 "metadata": {
  "language_info": {
   "name": "python"
  }
 },
 "nbformat": 4,
 "nbformat_minor": 2
}
